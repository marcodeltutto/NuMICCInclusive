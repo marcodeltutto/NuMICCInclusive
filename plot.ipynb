{
 "cells": [
  {
   "cell_type": "code",
   "execution_count": 63,
   "metadata": {
    "collapsed": false
   },
   "outputs": [],
   "source": [
    "import os,sys,string, time\n",
    "import ROOT\n",
    "from math import *\n",
    "from ROOT import TTree, TObject, TFile, gDirectory, TLatex, TH1D, TH2D, TH3D, TCanvas, TPad, gROOT, TGaxis, gStyle, TColor, TLegend, THStack, TChain\n",
    "from array import array\n",
    "from glob import glob"
   ]
  },
  {
   "cell_type": "code",
   "execution_count": 104,
   "metadata": {
    "collapsed": false
   },
   "outputs": [
    {
     "name": "stderr",
     "output_type": "stream",
     "text": [
      "TCanvas::Constructor:0: RuntimeWarning: Deleting canvas with same name: c\n"
     ]
    }
   ],
   "source": [
    "ROOT.gROOT.SetMacroPath('/Users/deltutto/');\n",
    "ROOT.gROOT.Macro( os.path.expanduser( 'rootlogon.C' ) )\n",
    "\n",
    "fname = glob(\"/Users/deltutto/Desktop/trackcontained_flashmatch_ratioplots.root\")\n",
    "fname = \"/Users/deltutto/Desktop/trackcontained_flashmatch_ratioplots.root\"\n",
    "\n",
    "tfile = TFile(fname,\"READ\",\"\",1)\n",
    "\n",
    "histo_numu    = tfile.Get(\"trklen_numu_ratio\")\n",
    "histo_cosmics = tfile.Get(\"trklen_cosmics_ratio\")\n",
    "histo_outfv   = tfile.Get(\"trklen_outfv_ratio\")\n",
    "\n",
    "histo_numu.SetLineColor(ROOT.kRed+1)\n",
    "histo_cosmics.SetLineColor(ROOT.kBlue)\n",
    "histo_outfv.SetLineColor(ROOT.kOrange)\n",
    "\n",
    "histo_numu.GetYaxis().SetRangeUser(0.001,.9999);\n",
    "histo_cosmics.GetYaxis().SetRangeUser(0.001,.9999);\n",
    "histo_outfv.GetYaxis().SetRangeUser(0.001,.9999);\n",
    "\n",
    "histo_numu.SetTitleSize(.0, \"xyz\");\n",
    "histo_cosmics.SetTitleSize(.0, \"xyz\");\n",
    "histo_outfv.SetTitleSize(.0, \"xyz\");\n",
    "\n",
    "histo_numu.SetTitle(\"\");\n",
    "histo_cosmics.SetTitle(\"\");\n",
    "histo_outfv.SetTitle(\"\");\n",
    "\n",
    "\n",
    "c = TCanvas(\"c\", \"canvas\", 800, 800)\n",
    "\n",
    "pad1 = TPad(\"pad1\", \"pad1\", 0, 0.7, 1, 1.0)\n",
    "pad1.SetTopMargin(0.1);\n",
    "pad1.SetBottomMargin(0); # Upper and lower plot are joined\n",
    "pad1.SetGridx();         # Vertical grid\n",
    "pad1.Draw();             # Draw the upper pad: pad1\n",
    "pad1.cd();               # pad1 becomes the current pad\n",
    "\n",
    "#histo_numu.GetYaxis().SetLabelSize(0);\n",
    "histo_numu.Draw()\n",
    "\n",
    "\n",
    "c.cd()\n",
    "pad2 =  TPad(\"pad2\", \"pad2\", 0, 0.4, 1, 0.7)\n",
    "pad2.SetTopMargin(0);\n",
    "pad2.SetBottomMargin(0);\n",
    "pad2.SetGridx(); # vertical grid\n",
    "pad2.Draw();\n",
    "pad2.cd();\n",
    "\n",
    "histo_cosmics.Draw()\n",
    "\n",
    "c.cd()\n",
    "pad3 =  TPad(\"pad2\", \"pad2\", 0, 0.1, 1, 0.4)\n",
    "pad3.SetTopMargin(0);\n",
    "pad3.SetBottomMargin(0.1);\n",
    "pad3.SetGridx(); # vertical grid\n",
    "pad3.Draw();\n",
    "pad3.cd();\n",
    "\n",
    "histo_outfv.Draw()\n",
    "histo_outfv.GetXaxis().SetLabelSize(.08)\n",
    "\n",
    "c.cd()\n",
    "latex = TLatex(0.35,0.05,\"Track Range [cm]\");\n",
    "latex.SetTextAlign(12);\n",
    "latex.SetTextSize(.04);\n",
    "latex.Draw()\n",
    "\n",
    "latex2 = TLatex(0.,0.05,\"Selected Events\");\n",
    "latex2.SetTextAlign(12);\n",
    "latex2.SetTextSize(.04);\n",
    "#latex2.Draw()"
   ]
  },
  {
   "cell_type": "code",
   "execution_count": null,
   "metadata": {
    "collapsed": true
   },
   "outputs": [],
   "source": []
  },
  {
   "cell_type": "code",
   "execution_count": null,
   "metadata": {
    "collapsed": true
   },
   "outputs": [],
   "source": []
  }
 ],
 "metadata": {
  "kernelspec": {
   "display_name": "Python 2",
   "language": "python",
   "name": "python2"
  },
  "language_info": {
   "codemirror_mode": {
    "name": "ipython",
    "version": 2
   },
   "file_extension": ".py",
   "mimetype": "text/x-python",
   "name": "python",
   "nbconvert_exporter": "python",
   "pygments_lexer": "ipython2",
   "version": "2.7.11"
  }
 },
 "nbformat": 4,
 "nbformat_minor": 0
}
